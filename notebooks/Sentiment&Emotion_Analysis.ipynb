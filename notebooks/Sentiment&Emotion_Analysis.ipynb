{
 "cells": [
  {
   "cell_type": "markdown",
   "id": "8db5fa0b-8203-4c40-aee0-65f47b1448c2",
   "metadata": {},
   "source": [
    "[![Open In Studio Lab](https://studiolab.sagemaker.aws/studiolab.svg)](https://studiolab.sagemaker.aws/import/github/tushar-mahalya/Custom-ChatGPT/blob/master/Sentiment&Emotion_Analysis.ipynb)"
   ]
  },
  {
   "cell_type": "markdown",
   "id": "ca856c7f-9071-4d49-a072-8a3e534970f5",
   "metadata": {},
   "source": [
    "## Sentiment Analysis\n",
    "To get a better idea about the sentiment of our Reddit comments we will use pre-trained [RoBERTa](https://huggingface.co/cardiffnlp/twitter-roberta-base-sentiment-latest) -base model trained on ~124M tweets from January 2018 to December 2021, and finetuned for sentiment analysis."
   ]
  },
  {
   "cell_type": "code",
   "execution_count": 1,
   "id": "e4fdda0e-5086-409f-b365-ef1aaef77929",
   "metadata": {},
   "outputs": [
    {
     "ename": "ModuleNotFoundError",
     "evalue": "No module named 'pandas'",
     "output_type": "error",
     "traceback": [
      "\u001b[0;31m---------------------------------------------------------------------------\u001b[0m",
      "\u001b[0;31mModuleNotFoundError\u001b[0m                       Traceback (most recent call last)",
      "\u001b[0;32m/tmp/ipykernel_1750/2267505752.py\u001b[0m in \u001b[0;36m<cell line: 1>\u001b[0;34m()\u001b[0m\n\u001b[0;32m----> 1\u001b[0;31m \u001b[0;32mimport\u001b[0m \u001b[0mpandas\u001b[0m \u001b[0;32mas\u001b[0m \u001b[0mpd\u001b[0m\u001b[0;34m\u001b[0m\u001b[0;34m\u001b[0m\u001b[0m\n\u001b[0m\u001b[1;32m      2\u001b[0m \u001b[0;32mimport\u001b[0m \u001b[0mtransformers\u001b[0m \u001b[0;32mas\u001b[0m \u001b[0mtrf\u001b[0m\u001b[0;34m\u001b[0m\u001b[0;34m\u001b[0m\u001b[0m\n\u001b[1;32m      3\u001b[0m \u001b[0;34m\u001b[0m\u001b[0m\n\u001b[1;32m      4\u001b[0m \u001b[0;31m# set logging level to ERROR or higher to ignore warnings from Hugging Face Models\u001b[0m\u001b[0;34m\u001b[0m\u001b[0;34m\u001b[0m\u001b[0m\n\u001b[1;32m      5\u001b[0m \u001b[0;32mimport\u001b[0m \u001b[0mlogging\u001b[0m\u001b[0;34m\u001b[0m\u001b[0;34m\u001b[0m\u001b[0m\n",
      "\u001b[0;31mModuleNotFoundError\u001b[0m: No module named 'pandas'"
     ]
    }
   ],
   "source": [
    "import pandas as pd\n",
    "import transformers as trf\n",
    "\n",
    "# set logging level to ERROR or higher to ignore warnings from Hugging Face Models\n",
    "import logging\n",
    "trf.logging.set_verbosity_error()"
   ]
  },
  {
   "cell_type": "code",
   "execution_count": 2,
   "id": "98c11a56-9b9c-4c1a-87f1-83ca26577e65",
   "metadata": {},
   "outputs": [],
   "source": [
    "# Loading data\n",
    "posts_df = pd.read_csv('data/Top_Posts.csv')\n",
    "comments_df = pd.read_csv('data/Top_Posts_Comments.csv')"
   ]
  },
  {
   "cell_type": "code",
   "execution_count": 3,
   "id": "95130510-408d-457f-836e-25683fbcf9d0",
   "metadata": {},
   "outputs": [],
   "source": [
    "# Joning Comments with their respective Post ID\n",
    "comments_posts_merged = posts_df.merge(comments_df, on = 'post_id', how = 'left')\n",
    "\n",
    "# Deleting rows that doesn't contain any Comment\n",
    "comments_posts_merged = comments_posts_merged[~comments_posts_merged['comment'].isnull()]"
   ]
  },
  {
   "cell_type": "code",
   "execution_count": 4,
   "id": "856a5a2a-6d35-484a-8796-827450445d90",
   "metadata": {},
   "outputs": [
    {
     "data": {
      "text/plain": [
       "Index(['post_id', 'post_title', 'subreddit', 'post_url', 'flair_text', 'score',\n",
       "       'comments', 'upvote_ratio', 'date-time', 'year', 'comment'],\n",
       "      dtype='object')"
      ]
     },
     "execution_count": 4,
     "metadata": {},
     "output_type": "execute_result"
    }
   ],
   "source": [
    "comments_posts_merged.columns"
   ]
  },
  {
   "cell_type": "code",
   "execution_count": 1,
   "id": "b97ef96d-c3ed-41e8-b9b2-2b1aec03f123",
   "metadata": {},
   "outputs": [
    {
     "ename": "NameError",
     "evalue": "name 'trf' is not defined",
     "output_type": "error",
     "traceback": [
      "\u001b[0;31m---------------------------------------------------------------------------\u001b[0m",
      "\u001b[0;31mNameError\u001b[0m                                 Traceback (most recent call last)",
      "\u001b[0;32m/tmp/ipykernel_1236/991591721.py\u001b[0m in \u001b[0;36m<cell line: 2>\u001b[0;34m()\u001b[0m\n\u001b[1;32m      1\u001b[0m \u001b[0;31m# Creating a Runtime-instance for our Sentiment Classification Model\u001b[0m\u001b[0;34m\u001b[0m\u001b[0;34m\u001b[0m\u001b[0m\n\u001b[0;32m----> 2\u001b[0;31m \u001b[0msentiment_classifier\u001b[0m \u001b[0;34m=\u001b[0m \u001b[0mtrf\u001b[0m\u001b[0;34m.\u001b[0m\u001b[0mpipeline\u001b[0m\u001b[0;34m(\u001b[0m\u001b[0mmodel\u001b[0m \u001b[0;34m=\u001b[0m \u001b[0;34m\"citizenlab/twitter-xlm-roberta-base-sentiment-finetunned\"\u001b[0m\u001b[0;34m)\u001b[0m\u001b[0;34m\u001b[0m\u001b[0;34m\u001b[0m\u001b[0m\n\u001b[0m",
      "\u001b[0;31mNameError\u001b[0m: name 'trf' is not defined"
     ]
    }
   ],
   "source": [
    "# Creating a Runtime-instance for our Sentiment Classification Model\n",
    "sentiment_classifier = trf.pipeline(model = \"citizenlab/twitter-xlm-roberta-base-sentiment-finetunned\")"
   ]
  },
  {
   "cell_type": "code",
   "execution_count": 6,
   "id": "9f3c7245-9b44-4557-80f4-657b3b37321c",
   "metadata": {},
   "outputs": [
    {
     "name": "stdout",
     "output_type": "stream",
     "text": [
      "[{'label': 'positive', 'score': 0.9863550066947937}]\n",
      "[{'label': 'negative', 'score': 0.93429034948349}]\n",
      "[{'label': 'neutral', 'score': 0.512378990650177}]\n"
     ]
    }
   ],
   "source": [
    "# Testing the working of our sentiment classifier model\n",
    "print(sentiment_classifier('I love Data Science !'))   # Positive Sentence\n",
    "print(sentiment_classifier('I hate Data Science !'))   # Negative Sentence\n",
    "print(sentiment_classifier('Some aspect of Data Science I like but some I dislike.'))   # Neutral Sentence"
   ]
  },
  {
   "cell_type": "code",
   "execution_count": 7,
   "id": "9b4939c2-bc9c-40fd-a562-19c3549a70f1",
   "metadata": {},
   "outputs": [],
   "source": [
    "def get_comments(word_input: str):\n",
    "    # Get comments related to specific text\n",
    "    comments_w_text = comments_posts_merged[comments_posts_merged['post_title'].str.contains(word_input)]\n",
    "    \n",
    "    return comments_w_text\n",
    "\n",
    "def get_sentiment(text: str):\n",
    "    # Get sentiment prediction scores\n",
    "    try:\n",
    "        sentiment = sentiment_classifier(text)[0]['label']\n",
    "    except:   \n",
    "        sentiment = 'Not Classified'\n",
    "\n",
    "    return sentiment\n",
    "\n",
    "def calculate_sentiment(text: str):\n",
    "    intext_df = get_comments(text)\n",
    "    intext_df.loc[:, 'sentiment'] = intext_df['comment'].astype(str).apply(lambda x: get_sentiment(x))\n",
    "    intext_dict = dict(intext_df['sentiment'].value_counts())\n",
    "    return intext_df, intext_dict"
   ]
  },
  {
   "cell_type": "code",
   "execution_count": null,
   "id": "45e0b982-3cf2-4105-bc69-c4eb7a0886c5",
   "metadata": {},
   "outputs": [],
   "source": [
    "_, dum = calculate_sentiment('data science')"
   ]
  },
  {
   "cell_type": "code",
   "execution_count": null,
   "id": "e2d5db39-82ae-46df-b5f5-ba384ded5e05",
   "metadata": {},
   "outputs": [],
   "source": [
    "fig1, ax1 = plt.subplots()\n",
    "ax1.pie(dum.values(), labels=dum.keys(), autopct='%1.1f%%',\n",
    "        shadow=True, startangle=90)\n",
    "#draw circle\n",
    "centre_circle = plt.Circle((0,0),0.70,fc='white')\n",
    "fig = plt.gcf()\n",
    "fig.gca().add_artist(centre_circle)\n",
    "# Equal aspect ratio ensures that pie is drawn as a circle\n",
    "ax1.axis('equal')  \n",
    "plt.tight_layout()\n",
    "ax1.set_title('Sentiment around \\'data science\\'')\n",
    "plt.show()"
   ]
  },
  {
   "cell_type": "code",
   "execution_count": null,
   "id": "14490aa9-3b23-4f69-849c-ea8da7d75ff1",
   "metadata": {},
   "outputs": [],
   "source": [
    "#colors\n",
    "colors = ['#ff9999','#66b3ff','#99ff99','#ffcc99']\n",
    "#explsion\n",
    "explode = (0.05,0.05,0.05,0.05)\n",
    " \n",
    "plt.pie(dum.values(), colors = colors, labels=dum.keys(), autopct='%1.1f%%', startangle=90, pctdistance=0.85, explode = explode)\n",
    "#draw circle\n",
    "centre_circle = plt.Circle((0,0),0.70,fc='white')\n",
    "fig = plt.gcf()\n",
    "fig.gca().add_artist(centre_circle)\n",
    "# Equal aspect ratio ensures that pie is drawn as a circle\n",
    "ax1.axis('equal')  \n",
    "plt.tight_layout()\n",
    "plt.show()"
   ]
  },
  {
   "cell_type": "code",
   "execution_count": null,
   "id": "afcf3825-e962-4ed7-8c94-1f9d1cf4b6ac",
   "metadata": {},
   "outputs": [],
   "source": [
    "dum.keys()"
   ]
  },
  {
   "cell_type": "code",
   "execution_count": null,
   "id": "3e18a65b-1e9f-4b3d-a046-82adfe743c99",
   "metadata": {},
   "outputs": [],
   "source": [
    "import matplotlib.pyplot as plt\n",
    "import pandas as pd\n",
    "\n",
    "# create a sample data frame\n",
    "comments_posts_df_sub = pd.DataFrame({\n",
    "    'sentiment': ['positive', 'positive', 'neutral', 'positive', 'negative', 'neutral', 'neutral', 'neutral'],\n",
    "    'count': [10, 15, 5, 12, 8, 3, 6, 2]\n",
    "})\n",
    "\n",
    "# plot a pie chart\n",
    "fig, ax = plt.subplots(figsize=(8, 8))\n",
    "wedges, texts, autotexts = ax.pie(comments_posts_df_sub['count'], labels=comments_posts_df_sub['sentiment'],\n",
    "                                  autopct='%1.1f%%', startangle=90, counterclock=False)\n",
    "\n",
    "# format the plot\n",
    "ax.set_title('Sentiment of around the topic')\n",
    "ax.axis('equal')\n",
    "\n",
    "plt.show()\n"
   ]
  },
  {
   "cell_type": "markdown",
   "id": "84cacfef-c38d-4108-8fc8-b44ddcbd5171",
   "metadata": {},
   "source": [
    "## Emotion Recognition\n",
    "We'll use [DistilBERT](https://huggingface.co/bhadresh-savani/distilbert-base-uncased-emotion) -uncased Model for Emotion Recognition which is only 60% of the size of orthodox BERT model while retaining 97% of its language understanding. It's trained on similar ~124M tweets from January 2018 to December 2021, and finetuned for emotion recognition of input text."
   ]
  },
  {
   "cell_type": "code",
   "execution_count": null,
   "id": "a5e01b09-ec11-4225-891e-def9cf3ee801",
   "metadata": {},
   "outputs": [],
   "source": [
    "# Creating a Runtime-instance for our Emotion Classification Model\n",
    "emotion_classifier = trf.pipeline(model = 'bhadresh-savani/distilbert-base-uncased-emotion')"
   ]
  },
  {
   "cell_type": "code",
   "execution_count": null,
   "id": "813674fe-f061-4d33-a193-23e46e1ebfa9",
   "metadata": {},
   "outputs": [],
   "source": []
  },
  {
   "cell_type": "code",
   "execution_count": null,
   "id": "8bccef7e-4560-4106-81b0-ed9aa00e7618",
   "metadata": {},
   "outputs": [],
   "source": []
  },
  {
   "cell_type": "code",
   "execution_count": null,
   "id": "39327f26-e1d6-4547-a381-d8800af6315e",
   "metadata": {},
   "outputs": [],
   "source": []
  },
  {
   "cell_type": "code",
   "execution_count": null,
   "id": "63d23d44-7131-4ed0-997b-01e8edfaaef0",
   "metadata": {},
   "outputs": [],
   "source": []
  }
 ],
 "metadata": {
  "kernelspec": {
   "display_name": "default:Python",
   "language": "python",
   "name": "conda-env-default-py"
  },
  "language_info": {
   "codemirror_mode": {
    "name": "ipython",
    "version": 3
   },
   "file_extension": ".py",
   "mimetype": "text/x-python",
   "name": "python",
   "nbconvert_exporter": "python",
   "pygments_lexer": "ipython3",
   "version": "3.9.16"
  }
 },
 "nbformat": 4,
 "nbformat_minor": 5
}
