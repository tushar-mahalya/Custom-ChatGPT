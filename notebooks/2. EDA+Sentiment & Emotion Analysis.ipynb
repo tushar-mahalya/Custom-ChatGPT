{
 "cells": [
  {
   "cell_type": "markdown",
   "id": "563e797c-d466-4083-bf67-3bf0b8a635ff",
   "metadata": {},
   "source": [
    "[![Open In Studio Lab](https://studiolab.sagemaker.aws/studiolab.svg)](https://studiolab.sagemaker.aws/import/github/tushar-mahalya/Custom-ChatGPT/blob/master/EDA.ipynb)"
   ]
  },
  {
   "cell_type": "code",
   "execution_count": 2,
   "id": "4f13ad3e-3b15-4313-9288-72716802ebc8",
   "metadata": {},
   "outputs": [],
   "source": [
    "import pandas as pd\n",
    "import datetime as dt\n",
    "\n",
    "import matplotlib.pyplot as plt\n",
    "import seaborn as sns\n",
    "\n",
    "from transformers import pipeline"
   ]
  },
  {
   "cell_type": "code",
   "execution_count": 4,
   "id": "38ff2dfb-c29c-475c-a168-a681d67477ac",
   "metadata": {
    "tags": []
   },
   "outputs": [
    {
     "data": {
      "text/plain": [
       "'/home/studio-lab-user/sagemaker-studiolab-notebooks/Custom ChatGPT/notebooks'"
      ]
     },
     "execution_count": 4,
     "metadata": {},
     "output_type": "execute_result"
    }
   ],
   "source": [
    "import os\n",
    "os.getcwd()"
   ]
  },
  {
   "cell_type": "code",
   "execution_count": 5,
   "id": "8fb139e4-e014-4470-bfd3-24b5b71e0a59",
   "metadata": {},
   "outputs": [],
   "source": [
    "# Loading Datasets\n",
    "posts_df = pd.read_csv('/home/studio-lab-user/sagemaker-studiolab-notebooks/Custom ChatGPT/data/Top_Posts.csv')\n",
    "comments_df = pd.read_csv('/home/studio-lab-user/sagemaker-studiolab-notebooks/Custom ChatGPT/data/Top_Posts_Comments.csv')"
   ]
  },
  {
   "cell_type": "code",
   "execution_count": 6,
   "id": "e40bb5c2-487a-485b-b45e-949cc901c079",
   "metadata": {},
   "outputs": [],
   "source": [
    "# Joning Comments with their respective Post ID\n",
    "comments_posts_merged = posts_df.merge(comments_df, on = 'post_id', how = 'left')\n",
    "\n",
    "# Deleting rows that doesn't contain any Comment\n",
    "comments_posts_merged = comments_posts_merged[~comments_posts_merged['comment'].isnull()]"
   ]
  },
  {
   "cell_type": "code",
   "execution_count": 7,
   "id": "51748d28-2465-4e21-b540-bbb486d4eb86",
   "metadata": {},
   "outputs": [
    {
     "data": {
      "text/html": [
       "<div>\n",
       "<style scoped>\n",
       "    .dataframe tbody tr th:only-of-type {\n",
       "        vertical-align: middle;\n",
       "    }\n",
       "\n",
       "    .dataframe tbody tr th {\n",
       "        vertical-align: top;\n",
       "    }\n",
       "\n",
       "    .dataframe thead th {\n",
       "        text-align: right;\n",
       "    }\n",
       "</style>\n",
       "<table border=\"1\" class=\"dataframe\">\n",
       "  <thead>\n",
       "    <tr style=\"text-align: right;\">\n",
       "      <th></th>\n",
       "      <th>post_id</th>\n",
       "      <th>post_title</th>\n",
       "      <th>subreddit</th>\n",
       "      <th>post_url</th>\n",
       "      <th>flair_text</th>\n",
       "      <th>score</th>\n",
       "      <th>comments</th>\n",
       "      <th>upvote_ratio</th>\n",
       "      <th>date-time</th>\n",
       "      <th>year</th>\n",
       "      <th>comment</th>\n",
       "    </tr>\n",
       "  </thead>\n",
       "  <tbody>\n",
       "    <tr>\n",
       "      <th>86271</th>\n",
       "      <td>razsj2</td>\n",
       "      <td>[D] Why do people “read” as many papers as pos...</td>\n",
       "      <td>MachineLearning</td>\n",
       "      <td>https://www.reddit.com/r/MachineLearning/comme...</td>\n",
       "      <td>Discussion</td>\n",
       "      <td>546</td>\n",
       "      <td>105</td>\n",
       "      <td>0.91</td>\n",
       "      <td>2021-12-07 13:59:45</td>\n",
       "      <td>2021</td>\n",
       "      <td>Yeah, it’s tough to bash through full paper af...</td>\n",
       "    </tr>\n",
       "    <tr>\n",
       "      <th>52751</th>\n",
       "      <td>9f18t6</td>\n",
       "      <td>perfect answer 😎</td>\n",
       "      <td>datascience</td>\n",
       "      <td>https://i.redd.it/2yc30ije9ol11.jpg</td>\n",
       "      <td>NaN</td>\n",
       "      <td>745</td>\n",
       "      <td>178</td>\n",
       "      <td>0.92</td>\n",
       "      <td>2018-09-11 20:49:01</td>\n",
       "      <td>2018</td>\n",
       "      <td>Downvote me daddy.</td>\n",
       "    </tr>\n",
       "    <tr>\n",
       "      <th>7985</th>\n",
       "      <td>g7wvpb</td>\n",
       "      <td>[R] Adversarial Latent Autoencoders (CVPR2020 ...</td>\n",
       "      <td>MachineLearning</td>\n",
       "      <td>https://v.redd.it/0bzww3okvzu41</td>\n",
       "      <td>Research</td>\n",
       "      <td>2316</td>\n",
       "      <td>99</td>\n",
       "      <td>0.99</td>\n",
       "      <td>2020-04-25 16:57:49</td>\n",
       "      <td>2020</td>\n",
       "      <td>Read the paper, section 4.1. Reference 35 is t...</td>\n",
       "    </tr>\n",
       "    <tr>\n",
       "      <th>214399</th>\n",
       "      <td>9ia8hh</td>\n",
       "      <td>Linkedin always offers a “simpler” solution</td>\n",
       "      <td>artificial</td>\n",
       "      <td>https://i.redd.it/4b5zuhumy0o11.jpg</td>\n",
       "      <td>NaN</td>\n",
       "      <td>132</td>\n",
       "      <td>3</td>\n",
       "      <td>0.94</td>\n",
       "      <td>2018-09-23 17:40:04</td>\n",
       "      <td>2018</td>\n",
       "      <td>Yes it is a real thing. Besides on the Amazon ...</td>\n",
       "    </tr>\n",
       "    <tr>\n",
       "      <th>47349</th>\n",
       "      <td>xix8ef</td>\n",
       "      <td>[P] I turned Stable Diffusion into a lossy ima...</td>\n",
       "      <td>MachineLearning</td>\n",
       "      <td>https://www.reddit.com/r/MachineLearning/comme...</td>\n",
       "      <td>Project</td>\n",
       "      <td>794</td>\n",
       "      <td>102</td>\n",
       "      <td>0.99</td>\n",
       "      <td>2022-09-20 03:03:03</td>\n",
       "      <td>2022</td>\n",
       "      <td>So third grade curriculum for my grandkids</td>\n",
       "    </tr>\n",
       "  </tbody>\n",
       "</table>\n",
       "</div>"
      ],
      "text/plain": [
       "       post_id                                         post_title   \n",
       "86271   razsj2  [D] Why do people “read” as many papers as pos...  \\\n",
       "52751   9f18t6                                   perfect answer 😎   \n",
       "7985    g7wvpb  [R] Adversarial Latent Autoencoders (CVPR2020 ...   \n",
       "214399  9ia8hh        Linkedin always offers a “simpler” solution   \n",
       "47349   xix8ef  [P] I turned Stable Diffusion into a lossy ima...   \n",
       "\n",
       "              subreddit                                           post_url   \n",
       "86271   MachineLearning  https://www.reddit.com/r/MachineLearning/comme...  \\\n",
       "52751       datascience                https://i.redd.it/2yc30ije9ol11.jpg   \n",
       "7985    MachineLearning                    https://v.redd.it/0bzww3okvzu41   \n",
       "214399       artificial                https://i.redd.it/4b5zuhumy0o11.jpg   \n",
       "47349   MachineLearning  https://www.reddit.com/r/MachineLearning/comme...   \n",
       "\n",
       "        flair_text  score  comments  upvote_ratio            date-time  year   \n",
       "86271   Discussion    546       105          0.91  2021-12-07 13:59:45  2021  \\\n",
       "52751          NaN    745       178          0.92  2018-09-11 20:49:01  2018   \n",
       "7985      Research   2316        99          0.99  2020-04-25 16:57:49  2020   \n",
       "214399         NaN    132         3          0.94  2018-09-23 17:40:04  2018   \n",
       "47349      Project    794       102          0.99  2022-09-20 03:03:03  2022   \n",
       "\n",
       "                                                  comment  \n",
       "86271   Yeah, it’s tough to bash through full paper af...  \n",
       "52751                                  Downvote me daddy.  \n",
       "7985    Read the paper, section 4.1. Reference 35 is t...  \n",
       "214399  Yes it is a real thing. Besides on the Amazon ...  \n",
       "47349          So third grade curriculum for my grandkids  "
      ]
     },
     "execution_count": 7,
     "metadata": {},
     "output_type": "execute_result"
    }
   ],
   "source": [
    "comments_posts_merged.sample(5)"
   ]
  },
  {
   "cell_type": "code",
   "execution_count": 8,
   "id": "f181d357-ab7c-4c6d-a538-4127ea63874a",
   "metadata": {},
   "outputs": [
    {
     "data": {
      "image/png": "[encoded data removed]",
      "text/plain": [
       "<Figure size 640x480 with 1 Axes>"
      ]
     },
     "metadata": {},
     "output_type": "display_data"
    }
   ],
   "source": [
    "comment_count = dict(comments_posts_merged['subreddit'].value_counts())\n",
    "plt.bar(comment_count.keys(), comment_count.values())\n",
    "plt.title('No. of comments from each subreddits')\n",
    "plt.xlabel('Sub-Reddit')\n",
    "plt.ylabel('Count of comments')\n",
    "plt.show()"
   ]
  },
  {
   "cell_type": "code",
   "execution_count": 15,
   "id": "461ac6d0-16f3-493c-8252-6413d9e94454",
   "metadata": {},
   "outputs": [],
   "source": [
    "import pandas as pd\n",
    "import re\n",
    "import string\n",
    "from nltk.corpus import stopwords\n",
    "from nltk.stem import PorterStemmer\n",
    "from nltk.tokenize import word_tokenize\n",
    "\n",
    "def clean_text_data(df, text_column):\n",
    "    # Remove irrelevant characters and extra whitespaces\n",
    "    df[text_column] = df[text_column].str.replace(r\"[^\\w\\s]\", \"\")\n",
    "    df[text_column] = df[text_column].str.replace(r\"\\s+\", \" \")\n",
    "\n",
    "    # Convert text to lowercase\n",
    "    df[text_column] = df[text_column].str.lower()\n",
    "\n",
    "    # Remove stopwords\n",
    "    stop_words = set(stopwords.words('english'))\n",
    "    df[text_column] = df[text_column].apply(lambda text: ' '.join([word for word in word_tokenize(text) if word not in stop_words]))\n",
    "\n",
    "    # Stemming\n",
    "    stemmer = PorterStemmer()\n",
    "    df[text_column] = df[text_column].apply(lambda text: ' '.join([stemmer.stem(word) for word in word_tokenize(text)]))\n",
    "    \n",
    "    \n",
    "    # Handle misspellings (if applicable)\n",
    "    # You can add your custom logic here to handle misspellings\n",
    "\n",
    "    # Handle missing data (if applicable)\n",
    "    # You can add your custom logic here to handle missing data\n",
    "\n",
    "    return df\n"
   ]
  },
  {
   "cell_type": "code",
   "execution_count": null,
   "id": "33bf6524-31f9-4333-b46a-855f138cc9d7",
   "metadata": {
    "tags": []
   },
   "outputs": [],
   "source": [
    "new_comments_df = clean_text_data(comments_posts_merged, 'comment')"
   ]
  },
  {
   "cell_type": "code",
   "execution_count": 17,
   "id": "ce9e5968-af0b-46e7-a6ac-3588b5ee49f4",
   "metadata": {
    "tags": []
   },
   "outputs": [
    {
     "name": "stderr",
     "output_type": "stream",
     "text": [
      "[nltk_data] Downloading package punkt to /home/studio-lab-\n",
      "[nltk_data]     user/nltk_data...\n",
      "[nltk_data]   Unzipping tokenizers/punkt.zip.\n"
     ]
    },
    {
     "data": {
      "text/plain": [
       "True"
      ]
     },
     "execution_count": 17,
     "metadata": {},
     "output_type": "execute_result"
    }
   ],
   "source": [
    "import nltk\n",
    "nltk.download('punkt')"
   ]
  },
  {
   "cell_type": "code",
   "execution_count": 13,
   "id": "d9935e70-79ce-4420-83d1-d46cc7aaffc2",
   "metadata": {},
   "outputs": [
    {
     "data": {
      "image/png": "[encoded data removed]",
      "text/plain": [
       "<Figure size 640x480 with 1 Axes>"
      ]
     },
     "metadata": {},
     "output_type": "display_data"
    }
   ],
   "source": [
    "# Create a bar plot\n",
    "sns.barplot(y=\"year\", hue=\"subreddit\", data=posts_df)\n",
    "plt.show()"
   ]
  },
  {
   "cell_type": "code",
   "execution_count": 6,
   "id": "85d2d592-edd9-4715-ae52-97adab093068",
   "metadata": {},
   "outputs": [
    {
     "data": {
      "text/plain": [
       "datascience        107155\n",
       "MachineLearning     95700\n",
       "artificial          20304\n",
       "Name: subreddit, dtype: int64"
      ]
     },
     "execution_count": 6,
     "metadata": {},
     "output_type": "execute_result"
    }
   ],
   "source": [
    "comments_posts_merged['subreddit'].value_counts()"
   ]
  },
  {
   "cell_type": "code",
   "execution_count": 11,
   "id": "963a91c8-fbf3-4ee7-aeaa-2034dd7f179a",
   "metadata": {},
   "outputs": [
    {
     "data": {
      "image/png": "[encoded data removed]",
      "text/plain": [
       "<Figure size 1000x500 with 1 Axes>"
      ]
     },
     "metadata": {},
     "output_type": "display_data"
    }
   ],
   "source": [
    "# Create a bar plot\n",
    "fig, ax = plt.subplots(figsize=(10, 5))\n",
    "colors = {'MachineLearning': 'red', 'datascience': 'blue', 'artificial': 'green'}\n",
    "for i, (name, group) in enumerate(posts_df.groupby('subreddit')):\n",
    "    ax.bar(group['year'], group['subreddit'], color=colors[name], label=name)\n",
    "\n",
    "# Set title and legend\n",
    "ax.set_title('Number of posts by year')\n",
    "ax.legend()\n",
    "plt.show()"
   ]
  },
  {
   "cell_type": "code",
   "execution_count": null,
   "id": "c6414f61-c79c-4f28-bfe6-96ad32b24809",
   "metadata": {},
   "outputs": [],
   "source": []
  },
  {
   "cell_type": "code",
   "execution_count": null,
   "id": "54a09975-0262-457a-97d6-9836d4293663",
   "metadata": {},
   "outputs": [],
   "source": []
  },
  {
   "cell_type": "code",
   "execution_count": null,
   "id": "a3aab1bc-a003-4667-8334-532f26212965",
   "metadata": {},
   "outputs": [],
   "source": []
  }
 ],
 "metadata": {
  "kernelspec": {
   "display_name": "tf-cpu-310:Python",
   "language": "python",
   "name": "conda-env-tf-cpu-310-py"
  },
  "language_info": {
   "codemirror_mode": {
    "name": "ipython",
    "version": 3
   },
   "file_extension": ".py",
   "mimetype": "text/x-python",
   "name": "python",
   "nbconvert_exporter": "python",
   "pygments_lexer": "ipython3",
   "version": "3.10.10"
  }
 },
 "nbformat": 4,
 "nbformat_minor": 5
}
