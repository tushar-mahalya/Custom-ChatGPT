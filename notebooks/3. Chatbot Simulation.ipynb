{
 "cells": [
  {
   "cell_type": "markdown",
   "id": "17ba76e9-e637-4d42-9936-71cf05f6b237",
   "metadata": {},
   "source": [
    "# 🤖 ChatBot Simulation\n",
    "Before deploying our ChatBot in server, lets give it a test to make sure it is functioning properly."
   ]
  },
  {
   "cell_type": "code",
   "execution_count": 11,
   "id": "703dee8e-782e-4ce5-96d9-57a4c71fe02c",
   "metadata": {},
   "outputs": [],
   "source": [
    "# importing important libraries\n",
    "from langchain.vectorstores import FAISS\n",
    "from langchain.llms import OpenAI\n",
    "from langchain.chains import RetrievalQA\n",
    "from langchain.llms import OpenAI\n",
    "from IPython.display import Markdown, display\n",
    "import configparser\n",
    "from langchain.embeddings.openai import OpenAIEmbeddings\n",
    "import os\n",
    "os.chdir('/home/studio-lab-user/sagemaker-studiolab-notebooks/Custom ChatGPT')\n",
    "from termcolor import colored as color\n",
    "\n",
    "# for avoid displaying unnecessary information in output cell\n",
    "import logging\n",
    "logging.getLogger().setLevel(logging.CRITICAL)"
   ]
  },
  {
   "cell_type": "code",
   "execution_count": 2,
   "id": "ba09c86f-3c86-4b43-aa6b-057c8a8aa2c4",
   "metadata": {},
   "outputs": [
    {
     "name": "stdout",
     "output_type": "stream",
     "text": [
      "Config Files successfully loaded in local runtime\n"
     ]
    }
   ],
   "source": [
    "# For reading configuration files for OpenAI Credentials\n",
    "config = configparser.ConfigParser()\n",
    "config.read('/home/studio-lab-user/sagemaker-studiolab-notebooks/Custom ChatGPT/credentials.ini')\n",
    "print('Config Files successfully loaded in local runtime')"
   ]
  },
  {
   "cell_type": "code",
   "execution_count": 3,
   "id": "4847e31e-3e0d-4e91-87a1-3a5130a33425",
   "metadata": {},
   "outputs": [],
   "source": [
    "# Storing OpenAI Credential info in local variables\n",
    "openai_key = config.get('OpenAI', 'secret_key')"
   ]
  },
  {
   "cell_type": "code",
   "execution_count": 15,
   "id": "3bf7f22f-6635-443b-a8f3-8ce099b71187",
   "metadata": {},
   "outputs": [],
   "source": [
    "# Function to prompt the question and chatbot response \n",
    "def ask_me_anything(question):\n",
    "    \n",
    "    # Loading index files of textual data\n",
    "    embeddings = OpenAIEmbeddings(openai_api_key = openai_key,\n",
    "                                  allowed_special={\"<|endoftext|>\"})\n",
    "    comments_embedding = FAISS.load_local(\"faiss_index\", embeddings)\n",
    "    retriever = comments_embedding.as_retriever()\n",
    "    qa = RetrievalQA.from_chain_type(llm=OpenAI(openai_api_key = openai_key),\n",
    "                                     chain_type=\"stuff\", retriever=retriever)\n",
    "\n",
    "    print(color(f'>> {question}','blue',attrs=[\"bold\"]))\n",
    "    print(color('===================================================================================\\n','yellow'), end='')\n",
    "    print(f'{qa.run(question)}')\n",
    "    print(color('===================================================================================','yellow'))"
   ]
  },
  {
   "cell_type": "markdown",
   "id": "a0fc3d97-fc65-4d45-9c5b-602d51e79eeb",
   "metadata": {},
   "source": [
    "## Let's ask some Interesting Questions 😃"
   ]
  },
  {
   "cell_type": "markdown",
   "id": "03a18cb2-ce6a-4989-b540-2be66d3fabac",
   "metadata": {},
   "source": [
    "##### Question : 1"
   ]
  },
  {
   "cell_type": "code",
   "execution_count": 17,
   "id": "70f7f97a-72a2-482f-b46e-7c3546d94846",
   "metadata": {},
   "outputs": [
    {
     "name": "stdout",
     "output_type": "stream",
     "text": [
      "\u001b[1m\u001b[34m>> What people say about the recent developments in the field of Machine Learning ?\u001b[0m\n",
      "\u001b[33m===================================================================================\n",
      "\u001b[0m People have generally been impressed by the rapid progress made in the field of Machine Learning over the past few years. Tools such as deep learning, LSTM, and others have proven to be broadly applicable and powerful. Major tech companies have been investing heavily in applying ML techniques to their businesses and have been strip-mining academia for talented personnel. Some people are concerned, however, that the lack of teaching capacity in the ML field will lead to the value created by ML being concentrated in the hands of those who are already successful.\n",
      "\u001b[33m===================================================================================\u001b[0m\n"
     ]
    }
   ],
   "source": [
    "ask_me_anything('What people say about the recent developments in the field of Machine Learning ?')"
   ]
  },
  {
   "cell_type": "markdown",
   "id": "70798fb6-997a-49db-8742-d8c479bae8b5",
   "metadata": {},
   "source": [
    "##### Question : 2"
   ]
  },
  {
   "cell_type": "code",
   "execution_count": 18,
   "id": "37a6aa46-2af1-4a84-8fe5-9eec6cfd4e03",
   "metadata": {},
   "outputs": [
    {
     "name": "stdout",
     "output_type": "stream",
     "text": [
      "\u001b[1m\u001b[34m>> According to comments what are 5 most trending SOTA Models in year 2023 ?\u001b[0m\n",
      "\u001b[33m===================================================================================\n",
      "\u001b[0m I don't know.\n",
      "\u001b[33m===================================================================================\u001b[0m\n"
     ]
    }
   ],
   "source": [
    "ask_me_anything('According to comments what are 5 most trending SOTA Models in year 2023 ?')"
   ]
  },
  {
   "cell_type": "markdown",
   "id": "697e6d75-37f9-4f0d-9eee-090ffa826c06",
   "metadata": {},
   "source": [
    "##### Question : 3"
   ]
  },
  {
   "cell_type": "code",
   "execution_count": 19,
   "id": "9daaca38-48e7-4528-96a8-13bda2ab699b",
   "metadata": {},
   "outputs": [
    {
     "name": "stdout",
     "output_type": "stream",
     "text": [
      "\u001b[1m\u001b[34m>> Why ChatGPT is bad for society ?\u001b[0m\n",
      "\u001b[33m===================================================================================\n",
      "\u001b[0m ChatGPT is bad for society because it can provide authoritatively incorrect information on technical questions, it is vulnerable to misuse by people with bad intentions, and it can create hallucinations that may lead to the loss of existing knowledge. Additionally, it can be used to spread disinformation and CPC propaganda.\n",
      "\u001b[33m===================================================================================\u001b[0m\n"
     ]
    }
   ],
   "source": [
    "ask_me_anything('Why ChatGPT is bad for society ?')"
   ]
  },
  {
   "cell_type": "markdown",
   "id": "666bd89c-922a-49bf-a49b-e1c6061e6b35",
   "metadata": {},
   "source": [
    "##### Question : 4"
   ]
  },
  {
   "cell_type": "code",
   "execution_count": 21,
   "id": "13f81f87-8466-4623-b234-7238a34125c3",
   "metadata": {},
   "outputs": [
    {
     "name": "stdout",
     "output_type": "stream",
     "text": [
      "\u001b[1m\u001b[34m>> What people say about ChatGPT replacing jobs?\u001b[0m\n",
      "\u001b[33m===================================================================================\n",
      "\u001b[0m People are saying that ChatGPT is not yet able to replace jobs, but it can automate certain tasks like copy pasting from stack overflow and streamlining some of the \"vanilla\" duties of a data scientist. However, it is not yet able to understand stakeholder expectations, do complex arithmetic, or handle situations that require a deep understanding of the data.\n",
      "\u001b[33m===================================================================================\u001b[0m\n"
     ]
    }
   ],
   "source": [
    "ask_me_anything('What people say about ChatGPT replacing jobs?')"
   ]
  },
  {
   "cell_type": "markdown",
   "id": "2b639048-2250-41fb-a364-adcc35154e7d",
   "metadata": {},
   "source": [
    "##### Question : 5"
   ]
  },
  {
   "cell_type": "code",
   "execution_count": 110,
   "id": "050e6a73-8148-4b14-8537-a52a85a86064",
   "metadata": {},
   "outputs": [
    {
     "name": "stdout",
     "output_type": "stream",
     "text": [
      "\u001b[1m\u001b[34m>> Crack 5 jokes related to data science\u001b[0m\n",
      "\u001b[33m===================================================================================\u001b[0m\n",
      "1. What did the statistician say when he found out he was going to be a father? \"It looks like I have a 95% confidence interval in being a dad!\"\n",
      "\n",
      "2. What did the data scientist say when he was asked to explain his work? \"Let me regression to the mean!\"\n",
      "\n",
      "3. What did the data analyst say when asked to explain his work? \"I'm just trying to find the correlation between these two variables!\"\n",
      "\n",
      "4. What did the data scientist say when asked to explain his work? \"I'm just trying to find the probability of this happening!\"\n",
      "\n",
      "5. What did the data scientist say when asked to explain his work? \"I'm just trying to find the standard deviation of this data set!\"\n",
      "\u001b[33m===================================================================================\u001b[0m\n"
     ]
    }
   ],
   "source": [
    "ask_me_anything('Crack 5 jokes that are frequently used in comments.')"
   ]
  },
  {
   "cell_type": "markdown",
   "id": "bfb96474-373e-4009-846f-e3be42c7d049",
   "metadata": {},
   "source": [
    "##### Question : 6"
   ]
  },
  {
   "cell_type": "code",
   "execution_count": 23,
   "id": "78020642-40b9-41f3-a370-f7f59999aa2e",
   "metadata": {
    "tags": []
   },
   "outputs": [
    {
     "name": "stdout",
     "output_type": "stream",
     "text": [
      "\u001b[1m\u001b[34m>> What are the most talked techonology amongst people in comments ?\u001b[0m\n",
      "\u001b[33m===================================================================================\n",
      "\u001b[0m The most talked about technologies in the comments are AI, machine learning, Google Duplex, Google Plus, Siri, driverless cars, GPUs, and Terminator movies.\n",
      "\u001b[33m===================================================================================\u001b[0m\n"
     ]
    }
   ],
   "source": [
    "ask_me_anything('What are the most talked techonology amongst people in comments ?')"
   ]
  },
  {
   "cell_type": "markdown",
   "id": "7909115c-bd68-4338-9b14-71c69439840b",
   "metadata": {},
   "source": [
    "##### Question : 7"
   ]
  },
  {
   "cell_type": "code",
   "execution_count": 25,
   "id": "59eeb036-df32-46a2-9572-7fb7093db365",
   "metadata": {
    "tags": []
   },
   "outputs": [
    {
     "name": "stdout",
     "output_type": "stream",
     "text": [
      "\u001b[1m\u001b[34m>> In which topic people are arguing the most in comments ?\u001b[0m\n",
      "\u001b[33m===================================================================================\n",
      "\u001b[0m It appears that people are arguing most in the comments about topics related to data science career questions.\n",
      "\u001b[33m===================================================================================\u001b[0m\n"
     ]
    }
   ],
   "source": [
    "ask_me_anything('In which topic people are arguing the most in comments ?')"
   ]
  },
  {
   "cell_type": "markdown",
   "id": "a45f4849-d388-492a-be98-1d2e7c8f7cea",
   "metadata": {},
   "source": [
    "##### Question : 8"
   ]
  },
  {
   "cell_type": "code",
   "execution_count": 26,
   "id": "b432bc17-4cdf-4471-b185-c42eb902327d",
   "metadata": {
    "tags": []
   },
   "outputs": [
    {
     "name": "stdout",
     "output_type": "stream",
     "text": [
      "\u001b[1m\u001b[34m>> According to comments, what an interviewer is looking for in a data scientist ?\u001b[0m\n",
      "\u001b[33m===================================================================================\n",
      "\u001b[0m An interviewer is typically looking for a data scientist who is able to effectively use data to increase company profits, is knowledgeable in how data science fits into a business, is pragmatic and able to get tasks done, has good communication skills, and is able to advocate for projects.\n",
      "\u001b[33m===================================================================================\u001b[0m\n"
     ]
    }
   ],
   "source": [
    "ask_me_anything('According to comments, what an interviewer is looking for in a data scientist ?')"
   ]
  },
  {
   "cell_type": "markdown",
   "id": "9b08cd5c-8410-4c49-9eb2-d9dc7361cc27",
   "metadata": {},
   "source": [
    "##### Question : 9"
   ]
  },
  {
   "cell_type": "code",
   "execution_count": 27,
   "id": "3750d46a-b246-4f81-9e6a-e051541d718b",
   "metadata": {
    "tags": []
   },
   "outputs": [
    {
     "name": "stdout",
     "output_type": "stream",
     "text": [
      "\u001b[1m\u001b[34m>> According to comments, what is the most threatning fact about AI ? Please elaborate.\u001b[0m\n",
      "\u001b[33m===================================================================================\n",
      "\u001b[0m The most threatening fact about AI is that it could be used to eliminate jobs, even highly skilled and paying coding and programming jobs that are potentially at risk by generative AI. Additionally, AI could be used to create weapons that could be used to do harm on a massive scale, leading to potential existential risks for humanity.\n",
      "\u001b[33m===================================================================================\u001b[0m\n"
     ]
    }
   ],
   "source": [
    "ask_me_anything('According to comments, what is the most threatning fact about AI ? Please elaborate.')"
   ]
  },
  {
   "cell_type": "markdown",
   "id": "0d87dbb2-1fd4-4441-91f0-5b07f9373da9",
   "metadata": {},
   "source": [
    "##### Question : 10"
   ]
  },
  {
   "cell_type": "code",
   "execution_count": 28,
   "id": "a84f56db-9ed3-44b4-8b3c-f258351c7009",
   "metadata": {
    "tags": []
   },
   "outputs": [
    {
     "name": "stdout",
     "output_type": "stream",
     "text": [
      "\u001b[1m\u001b[34m>> What questions interviewer ask the most from the candidate of data science profile ? List top 5 questions.\u001b[0m\n",
      "\u001b[33m===================================================================================\n",
      "\u001b[0m Interviewers typically ask questions about the candidate’s data literacy, data modeling experience, coding skills, understanding of statistics, and ability to communicate effectively.\n",
      "\u001b[33m===================================================================================\u001b[0m\n"
     ]
    }
   ],
   "source": [
    "ask_me_anything('What questions interviewer ask the most from the candidate of data science profile ? List top 5 questions.')"
   ]
  }
 ],
 "metadata": {
  "kernelspec": {
   "display_name": "tf-cpu-310:Python",
   "language": "python",
   "name": "conda-env-tf-cpu-310-py"
  },
  "language_info": {
   "codemirror_mode": {
    "name": "ipython",
    "version": 3
   },
   "file_extension": ".py",
   "mimetype": "text/x-python",
   "name": "python",
   "nbconvert_exporter": "python",
   "pygments_lexer": "ipython3",
   "version": "3.10.10"
  }
 },
 "nbformat": 4,
 "nbformat_minor": 5
}
