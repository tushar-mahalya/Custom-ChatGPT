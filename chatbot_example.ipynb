{
 "cells": [
  {
   "cell_type": "markdown",
   "id": "e780147b-d6c1-4e88-82fd-d15315103127",
   "metadata": {},
   "source": [
    "[![Open In Studio Lab](https://studiolab.sagemaker.aws/studiolab.svg)](https://studiolab.sagemaker.aws/import/github/tushar-mahalya/Custom-ChatGPT/blob/master/chatbot_example.ipynb)"
   ]
  },
  {
   "cell_type": "markdown",
   "id": "17ba76e9-e637-4d42-9936-71cf05f6b237",
   "metadata": {},
   "source": [
    "# 🤖 ChatBot Simulation\n",
    "Before deploying our ChatBot in server, lets give it a test to make sure it is functioning properly."
   ]
  },
  {
   "cell_type": "code",
   "execution_count": 47,
   "id": "703dee8e-782e-4ce5-96d9-57a4c71fe02c",
   "metadata": {},
   "outputs": [],
   "source": [
    "# importing important libraries\n",
    "from llama_index import GPTSimpleVectorIndex\n",
    "from langchain import OpenAI\n",
    "from IPython.display import Markdown, display\n",
    "import configparser\n",
    "from IPython.display import Markdown, display\n",
    "import os\n",
    "from termcolor import colored as color\n",
    "\n",
    "# for avoid displaying unnecessary information in output cell\n",
    "import logging\n",
    "logging.getLogger().setLevel(logging.CRITICAL)"
   ]
  },
  {
   "cell_type": "code",
   "execution_count": 2,
   "id": "ba09c86f-3c86-4b43-aa6b-057c8a8aa2c4",
   "metadata": {},
   "outputs": [
    {
     "name": "stdout",
     "output_type": "stream",
     "text": [
      "Config Files successfully loaded in local runtime\n"
     ]
    }
   ],
   "source": [
    "# For reading configuration files for OpenAI Credentials\n",
    "config = configparser.ConfigParser()\n",
    "config.read('/home/studio-lab-user/sagemaker-studiolab-notebooks/Custom ChatGPT/credentials.ini')\n",
    "print('Config Files successfully loaded in local runtime')"
   ]
  },
  {
   "cell_type": "code",
   "execution_count": 3,
   "id": "4847e31e-3e0d-4e91-87a1-3a5130a33425",
   "metadata": {},
   "outputs": [],
   "source": [
    "# Storing OpenAI Credential info in local variables\n",
    "openai_key = config.get('OpenAI', 'secret_key')\n",
    "\n",
    "# Setting OpenAI key as environment variable\n",
    "os.environ[\"OPENAI_API_KEY\"] = openai_key"
   ]
  },
  {
   "cell_type": "code",
   "execution_count": 108,
   "id": "3bf7f22f-6635-443b-a8f3-8ce099b71187",
   "metadata": {},
   "outputs": [],
   "source": [
    "# Function to prompt the question and chatbot response \n",
    "def ask_me_anything(question):\n",
    "    \n",
    "    # Loading index files of textual data\n",
    "    index = GPTSimpleVectorIndex.load_from_disk('data/train_data/index.json')\n",
    "    response = index.query(question, response_mode= 'compact')\n",
    "\n",
    "    print(color(f'>> {question}','blue',attrs=[\"bold\"]))\n",
    "    print(color('===================================================================================','yellow'), end='')\n",
    "    print(f'{response.response}')\n",
    "    print(color('===================================================================================','yellow'))"
   ]
  },
  {
   "cell_type": "markdown",
   "id": "a0fc3d97-fc65-4d45-9c5b-602d51e79eeb",
   "metadata": {},
   "source": [
    "## Let's ask some Interesting Questions 😃"
   ]
  },
  {
   "cell_type": "markdown",
   "id": "03a18cb2-ce6a-4989-b540-2be66d3fabac",
   "metadata": {},
   "source": [
    "##### Question : 1"
   ]
  },
  {
   "cell_type": "code",
   "execution_count": 104,
   "id": "70f7f97a-72a2-482f-b46e-7c3546d94846",
   "metadata": {},
   "outputs": [
    {
     "name": "stdout",
     "output_type": "stream",
     "text": [
      "\u001B[1m\u001B[34m>> What are the recent developments in the field of Machine Learning ?\u001B[0m\n",
      "\u001B[33m===================================================================================\u001B[0m\n",
      "Recent developments in the field of Machine Learning include semi-supervised object detection, zero-shot generalization, adaptive text-to-speech, synthetic speech detection, and voice recognition. These developments have enabled more efficient and accurate models, as well as more secure authentication methods. Additionally, recent developments have enabled models to fine-tune for short voice prompts.\n",
      "\u001B[33m===================================================================================\u001B[0m\n"
     ]
    }
   ],
   "source": [
    "ask_me_anything('What are the recent developments in the field of Machine Learning ?')"
   ]
  },
  {
   "cell_type": "markdown",
   "id": "70798fb6-997a-49db-8742-d8c479bae8b5",
   "metadata": {},
   "source": [
    "##### Question : 2"
   ]
  },
  {
   "cell_type": "code",
   "execution_count": 105,
   "id": "37a6aa46-2af1-4a84-8fe5-9eec6cfd4e03",
   "metadata": {},
   "outputs": [
    {
     "name": "stdout",
     "output_type": "stream",
     "text": [
      "\u001B[1m\u001B[34m>> Name 5 most trending SOTA Models in year 2023 ?\u001B[0m\n",
      "\u001B[33m===================================================================================\u001B[0m\n",
      "1. VITS (Voice Identification and Transformation System)\n",
      "2. Wav2Vec2\n",
      "3. Ada Speech\n",
      "4. SEANet (Semi-supervised Audio Network)\n",
      "5. ElevenLabs Voice Recognition Model\n",
      "\u001B[33m===================================================================================\u001B[0m\n"
     ]
    }
   ],
   "source": [
    "ask_me_anything('Name 5 most trending SOTA Models in year 2023 ?')"
   ]
  },
  {
   "cell_type": "markdown",
   "id": "697e6d75-37f9-4f0d-9eee-090ffa826c06",
   "metadata": {},
   "source": [
    "##### Question : 3"
   ]
  },
  {
   "cell_type": "code",
   "execution_count": 87,
   "id": "9daaca38-48e7-4528-96a8-13bda2ab699b",
   "metadata": {},
   "outputs": [
    {
     "name": "stdout",
     "output_type": "stream",
     "text": [
      "\u001B[1m\u001B[34m>> Why ChatGPT is bad for society ?\u001B[0m\n",
      "\u001B[33m===================================================================================\u001B[0m\n",
      "ChatGPT is not necessarily bad for society, but it could be used to create audio recordings that are indistinguishable from human voices. This could be used to deceive people and potentially commit fraud. Additionally, ChatGPT could be used to generate audio recordings that are not easily distinguishable from human voices, which could lead to confusion and mistrust.\n",
      "\u001B[33m===================================================================================\u001B[0m\n"
     ]
    }
   ],
   "source": [
    "ask_me_anything('Why ChatGPT is bad for society ?')"
   ]
  },
  {
   "cell_type": "markdown",
   "id": "666bd89c-922a-49bf-a49b-e1c6061e6b35",
   "metadata": {},
   "source": [
    "##### Question : 4"
   ]
  },
  {
   "cell_type": "code",
   "execution_count": 106,
   "id": "13f81f87-8466-4623-b234-7238a34125c3",
   "metadata": {},
   "outputs": [
    {
     "name": "stdout",
     "output_type": "stream",
     "text": [
      "\u001B[1m\u001B[34m>> Name 10 jobs that ChatGPT will replace in future ?\u001B[0m\n",
      "\u001B[33m===================================================================================\u001B[0m\n",
      "1. Customer Service Representative\n",
      "2. Translator\n",
      "3. Call Center Agent\n",
      "4. Technical Support Representative\n",
      "5. Data Entry Clerk\n",
      "6. Medical Transcriptionist\n",
      "7. Legal Secretary\n",
      "8. Copywriter\n",
      "9. Market Researcher\n",
      "10. Content Writer\n",
      "\u001B[33m===================================================================================\u001B[0m\n"
     ]
    }
   ],
   "source": [
    "ask_me_anything('Name 10 jobs that ChatGPT will replace in future ?')"
   ]
  },
  {
   "cell_type": "markdown",
   "id": "2b639048-2250-41fb-a364-adcc35154e7d",
   "metadata": {},
   "source": [
    "##### Question : 5"
   ]
  },
  {
   "cell_type": "code",
   "execution_count": 110,
   "id": "9bdaf856-4ff9-41ad-98c4-37b20f43f651",
   "metadata": {},
   "outputs": [
    {
     "name": "stdout",
     "output_type": "stream",
     "text": [
      "\u001B[1m\u001B[34m>> Crack 5 jokes related to data science\u001B[0m\n",
      "\u001B[33m===================================================================================\u001B[0m\n",
      "1. What did the statistician say when he found out he was going to be a father? \"It looks like I have a 95% confidence interval in being a dad!\"\n",
      "\n",
      "2. What did the data scientist say when he was asked to explain his work? \"Let me regression to the mean!\"\n",
      "\n",
      "3. What did the data analyst say when asked to explain his work? \"I'm just trying to find the correlation between these two variables!\"\n",
      "\n",
      "4. What did the data scientist say when asked to explain his work? \"I'm just trying to find the probability of this happening!\"\n",
      "\n",
      "5. What did the data scientist say when asked to explain his work? \"I'm just trying to find the standard deviation of this data set!\"\n",
      "\u001B[33m===================================================================================\u001B[0m\n"
     ]
    }
   ],
   "source": [
    "ask_me_anything('Crack 5 jokes related to data science')"
   ]
  }
 ],
 "metadata": {
  "kernelspec": {
   "display_name": "reddit_project:Python",
   "language": "python",
   "name": "conda-env-reddit_project-py"
  },
  "language_info": {
   "codemirror_mode": {
    "name": "ipython",
    "version": 3
   },
   "file_extension": ".py",
   "mimetype": "text/x-python",
   "name": "python",
   "nbconvert_exporter": "python",
   "pygments_lexer": "ipython3",
   "version": "3.11.0"
  }
 },
 "nbformat": 4,
 "nbformat_minor": 5
}
