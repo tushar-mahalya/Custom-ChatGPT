{
 "cells": [
  {
   "cell_type": "markdown",
   "id": "f3a1faff-8be8-4318-96e9-1d5d25e8174c",
   "metadata": {},
   "source": [
    "![reddit banner](https://cdn.dribbble.com/users/1761084/screenshots/3587716/reddit.gtif)"
   ]
  },
  {
   "cell_type": "code",
   "execution_count": 13,
   "id": "8602a503-762b-4339-acd7-bf127bc4928a",
   "metadata": {},
   "outputs": [],
   "source": [
    "# Importing important libraries\n",
    "import praw\n",
    "import pandas as pd\n",
    "import configparser"
   ]
  },
  {
   "cell_type": "code",
   "execution_count": 14,
   "id": "af3b82a9-f3ec-4b06-a8a8-e284c894f39f",
   "metadata": {},
   "outputs": [],
   "source": [
    "# For reading configuration files for Reddit Credentials\n",
    "config = configparser.ConfigParser()\n",
    "config.read('reddit_credentials.ini')\n",
    "\n",
    "# Storing credential info in local variables\n",
    "user_agent = config.get('credentials', 'user_agent')\n",
    "client_id = config.get('credentials', 'client_id')\n",
    "client_secret = config.get('credentials', 'client_secret')\n",
    "redirect_url = config.get('credentials', 'redirect_url')"
   ]
  },
  {
   "cell_type": "code",
   "execution_count": 15,
   "id": "07f12986-0fd2-4f5a-b193-8a220828ad5c",
   "metadata": {},
   "outputs": [],
   "source": [
    "# Creating read-only Reddit instance\n",
    "reddit = praw.Reddit(user_agent = user_agent,\n",
    "                    client_id = client_id,\n",
    "                    client_secret = client_secret,\n",
    "                    redirect_url = redirect_url)"
   ]
  },
  {
   "cell_type": "markdown",
   "id": "f87bd0c9-46c4-49c2-9981-c114bd9331cd",
   "metadata": {},
   "source": [
    "## Extracting Comments\n",
    "For our project we are going to use top 3 most popular Reddit communities -\n",
    "* Machine Learning - [r/MachineLearning](https://www.reddit.com/r/MachineLearning/)\n",
    "* Artificial Intelligence - [r/artificial](https://www.reddit.com/r/Artificial/)\n",
    "* Data Science - [r/DataScience](https://www.reddit.com/r/DataScience/)\n",
    "\n",
    "We will extract top 1000 post of all time from each sub-reddit to create our dataset along with some other useful information like Post URL (& ID), User posted, Post title, number of comments, time created, upvote ratio and score. "
   ]
  },
  {
   "cell_type": "code",
   "execution_count": 16,
   "id": "4eefec6b-326b-4e7a-8fb0-a97fcd76c4ff",
   "metadata": {},
   "outputs": [],
   "source": [
    "# Extracting top 1000 posts from each subreddit\n",
    "posts = reddit.subreddit('MachineLearning+artificial+datascience').top(time_filter = 'all', limit = 3000)"
   ]
  },
  {
   "cell_type": "code",
   "execution_count": null,
   "id": "64308ea1-fd7c-4c15-a847-89aca16d1016",
   "metadata": {},
   "outputs": [],
   "source": [
    "posts_df = []\n",
    "\n",
    "for post in posts:\n",
    "    posts_df.append({\n",
    "        'post_id' : post.id,\n",
    "        'subreddit' : post.subreddit,\n",
    "        'time_created' : post.created_utc,\n",
    "        'selftext' : post.selftext,\n",
    "        'post_title' : post.url,\n",
    "        'link_flair_text' : post.link_flair_text,\n",
    "        'score' : post.score,\n",
    "        'comments' : post.num_comments,\n",
    "        'upvote_ratio' : post.upvote_ratio\n",
    "    })"
   ]
  },
  {
   "cell_type": "code",
   "execution_count": null,
   "id": "a2c40cae-8c8a-4c30-9c57-895f30e45b52",
   "metadata": {},
   "outputs": [],
   "source": [
    "posts_df = pd.DataFrame(posts_df)"
   ]
  },
  {
   "cell_type": "code",
   "execution_count": null,
   "id": "024525ac-5bc5-418e-afcb-90dec17976a4",
   "metadata": {},
   "outputs": [],
   "source": [
    "posts_df.head()"
   ]
  }
 ],
 "metadata": {
  "kernelspec": {
   "display_name": "reddit_project:Python",
   "language": "python",
   "name": "conda-env-reddit_project-py"
  },
  "language_info": {
   "codemirror_mode": {
    "name": "ipython",
    "version": 3
   },
   "file_extension": ".py",
   "mimetype": "text/x-python",
   "name": "python",
   "nbconvert_exporter": "python",
   "pygments_lexer": "ipython3",
   "version": "3.11.0"
  }
 },
 "nbformat": 4,
 "nbformat_minor": 5
}
