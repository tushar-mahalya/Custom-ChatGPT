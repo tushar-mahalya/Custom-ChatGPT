{
 "cells": [
  {
   "cell_type": "markdown",
   "id": "ca856c7f-9071-4d49-a072-8a3e534970f5",
   "metadata": {},
   "source": [
    "## Sentiment Analysis\n",
    "To get a better idea about the sentiment of our Reddit comments we will use pre-trained [RoBERTa](https://huggingface.co/cardiffnlp/twitter-roberta-base-sentiment-latest) -base model trained on ~124M tweets from January 2018 to December 2021, and finetuned for sentiment analysis."
   ]
  },
  {
   "cell_type": "code",
   "execution_count": 14,
   "id": "e4fdda0e-5086-409f-b365-ef1aaef77929",
   "metadata": {},
   "outputs": [],
   "source": [
    "import pandas as pd\n",
    "import transformers\n",
    "\n",
    "# set logging level to ERROR or higher to ignore warnings from Hugging Face Models\n",
    "import logging\n",
    "transformers.logging.set_verbosity_error()"
   ]
  },
  {
   "cell_type": "code",
   "execution_count": 15,
   "id": "b97ef96d-c3ed-41e8-b9b2-2b1aec03f123",
   "metadata": {},
   "outputs": [],
   "source": [
    "# Creating a Runtime-instance for our model\n",
    "sentiment_classifier = transformers.pipeline(model = \"cardiffnlp/twitter-roberta-base-sentiment-latest\")"
   ]
  },
  {
   "cell_type": "code",
   "execution_count": 22,
   "id": "9f3c7245-9b44-4557-80f4-657b3b37321c",
   "metadata": {},
   "outputs": [
    {
     "name": "stdout",
     "output_type": "stream",
     "text": [
      "[{'label': 'positive', 'score': 0.9863550066947937}]\n",
      "[{'label': 'negative', 'score': 0.93429034948349}]\n",
      "[{'label': 'neutral', 'score': 0.512378990650177}]\n"
     ]
    }
   ],
   "source": [
    "# Testing the working of our sentiment classifier model\n",
    "print(sentiment_classifier('I love Data Science !'))   # Positive Sentence\n",
    "print(sentiment_classifier('I hate Data Science !'))   # Negative Sentence\n",
    "print(sentiment_classifier('Some aspect of Data Science I like but some I dislike.'))   # Neutral Sentence"
   ]
  },
  {
   "cell_type": "code",
   "execution_count": null,
   "id": "a5e01b09-ec11-4225-891e-def9cf3ee801",
   "metadata": {},
   "outputs": [],
   "source": []
  },
  {
   "cell_type": "code",
   "execution_count": null,
   "id": "813674fe-f061-4d33-a193-23e46e1ebfa9",
   "metadata": {},
   "outputs": [],
   "source": []
  },
  {
   "cell_type": "code",
   "execution_count": null,
   "id": "8bccef7e-4560-4106-81b0-ed9aa00e7618",
   "metadata": {},
   "outputs": [],
   "source": []
  },
  {
   "cell_type": "code",
   "execution_count": null,
   "id": "39327f26-e1d6-4547-a381-d8800af6315e",
   "metadata": {},
   "outputs": [],
   "source": []
  },
  {
   "cell_type": "code",
   "execution_count": null,
   "id": "63d23d44-7131-4ed0-997b-01e8edfaaef0",
   "metadata": {},
   "outputs": [],
   "source": []
  }
 ],
 "metadata": {
  "kernelspec": {
   "display_name": "reddit_project:Python",
   "language": "python",
   "name": "conda-env-reddit_project-py"
  },
  "language_info": {
   "codemirror_mode": {
    "name": "ipython",
    "version": 3
   },
   "file_extension": ".py",
   "mimetype": "text/x-python",
   "name": "python",
   "nbconvert_exporter": "python",
   "pygments_lexer": "ipython3",
   "version": "3.11.0"
  }
 },
 "nbformat": 4,
 "nbformat_minor": 5
}
