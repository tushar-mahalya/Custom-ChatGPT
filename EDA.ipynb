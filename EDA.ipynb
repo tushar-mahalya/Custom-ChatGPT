{
 "cells": [
  {
   "cell_type": "code",
   "execution_count": 1,
   "id": "4f13ad3e-3b15-4313-9288-72716802ebc8",
   "metadata": {},
   "outputs": [
    {
     "name": "stderr",
     "output_type": "stream",
     "text": [
      "/home/studio-lab-user/.conda/envs/reddit_project/lib/python3.11/site-packages/tqdm/auto.py:21: TqdmWarning: IProgress not found. Please update jupyter and ipywidgets. See https://ipywidgets.readthedocs.io/en/stable/user_install.html\n",
      "  from .autonotebook import tqdm as notebook_tqdm\n"
     ]
    }
   ],
   "source": [
    "import pandas as pd\n",
    "import datetime as dt\n",
    "\n",
    "import matplotlib.pyplot as plt\n",
    "import seaborn as sns\n",
    "\n",
    "from transformers import pipeline\n"
   ]
  },
  {
   "cell_type": "code",
   "execution_count": 2,
   "id": "8fb139e4-e014-4470-bfd3-24b5b71e0a59",
   "metadata": {},
   "outputs": [],
   "source": [
    "# Loading Datasets\n",
    "posts_df = pd.read_csv('Top_Posts.csv')\n",
    "comments_df = pd.read_csv('Top_Posts_Comments.csv')"
   ]
  },
  {
   "cell_type": "code",
   "execution_count": 3,
   "id": "e40bb5c2-487a-485b-b45e-949cc901c079",
   "metadata": {},
   "outputs": [],
   "source": [
    "# Joning Comments with their respective Post ID\n",
    "comments_posts_merged = posts_df.merge(comments_df, on = 'post_id', how = 'left')\n",
    "\n",
    "# Deleting rows that doesn't contain any Comment\n",
    "comments_posts_merged = comments_posts_merged[~comments_posts_merged['comment'].isnull()]"
   ]
  },
  {
   "cell_type": "code",
   "execution_count": 7,
   "id": "51748d28-2465-4e21-b540-bbb486d4eb86",
   "metadata": {},
   "outputs": [
    {
     "data": {
      "text/html": [
       "<div>\n",
       "<style scoped>\n",
       "    .dataframe tbody tr th:only-of-type {\n",
       "        vertical-align: middle;\n",
       "    }\n",
       "\n",
       "    .dataframe tbody tr th {\n",
       "        vertical-align: top;\n",
       "    }\n",
       "\n",
       "    .dataframe thead th {\n",
       "        text-align: right;\n",
       "    }\n",
       "</style>\n",
       "<table border=\"1\" class=\"dataframe\">\n",
       "  <thead>\n",
       "    <tr style=\"text-align: right;\">\n",
       "      <th></th>\n",
       "      <th>post_id</th>\n",
       "      <th>post_title</th>\n",
       "      <th>subreddit</th>\n",
       "      <th>post_url</th>\n",
       "      <th>flair_text</th>\n",
       "      <th>score</th>\n",
       "      <th>comments</th>\n",
       "      <th>upvote_ratio</th>\n",
       "      <th>date-time</th>\n",
       "      <th>year</th>\n",
       "      <th>comment</th>\n",
       "    </tr>\n",
       "  </thead>\n",
       "  <tbody>\n",
       "    <tr>\n",
       "      <th>128725</th>\n",
       "      <td>aujtrm</td>\n",
       "      <td>Bernie Sanders: \"I'm running for president bec...</td>\n",
       "      <td>artificial</td>\n",
       "      <td>https://twitter.com/BernieSanders/status/10997...</td>\n",
       "      <td>NaN</td>\n",
       "      <td>418</td>\n",
       "      <td>118</td>\n",
       "      <td>0.91</td>\n",
       "      <td>2019-02-25 10:31:50</td>\n",
       "      <td>2019</td>\n",
       "      <td>Lol, moderate tone in text format. Good one.</td>\n",
       "    </tr>\n",
       "    <tr>\n",
       "      <th>106515</th>\n",
       "      <td>n1wnp6</td>\n",
       "      <td>Disillusioned with the field of data science</td>\n",
       "      <td>datascience</td>\n",
       "      <td>https://www.reddit.com/r/datascience/comments/...</td>\n",
       "      <td>Career</td>\n",
       "      <td>482</td>\n",
       "      <td>170</td>\n",
       "      <td>0.91</td>\n",
       "      <td>2021-04-30 15:46:41</td>\n",
       "      <td>2021</td>\n",
       "      <td>I wouldn't settle for this toxic culture perso...</td>\n",
       "    </tr>\n",
       "    <tr>\n",
       "      <th>123978</th>\n",
       "      <td>adkjpo</td>\n",
       "      <td>[D] MIT Deep Learning GitHub Repo</td>\n",
       "      <td>MachineLearning</td>\n",
       "      <td>https://www.reddit.com/r/MachineLearning/comme...</td>\n",
       "      <td>Discussion</td>\n",
       "      <td>429</td>\n",
       "      <td>10</td>\n",
       "      <td>0.98</td>\n",
       "      <td>2019-01-07 18:28:38</td>\n",
       "      <td>2019</td>\n",
       "      <td>thanx :) It will be great if we can share idea...</td>\n",
       "    </tr>\n",
       "    <tr>\n",
       "      <th>105992</th>\n",
       "      <td>jgknop</td>\n",
       "      <td>\"Hyperparameter Optimisation\" is the ultimate ...</td>\n",
       "      <td>datascience</td>\n",
       "      <td>https://www.reddit.com/r/datascience/comments/...</td>\n",
       "      <td>Discussion</td>\n",
       "      <td>480</td>\n",
       "      <td>64</td>\n",
       "      <td>0.98</td>\n",
       "      <td>2020-10-23 10:35:49</td>\n",
       "      <td>2020</td>\n",
       "      <td>Whenever I hear that I think of hyper-tuning m...</td>\n",
       "    </tr>\n",
       "    <tr>\n",
       "      <th>195597</th>\n",
       "      <td>d5dvju</td>\n",
       "      <td>Finance employer not keen on PhDs; changes job...</td>\n",
       "      <td>datascience</td>\n",
       "      <td>https://www.reddit.com/r/datascience/comments/...</td>\n",
       "      <td>Discussion</td>\n",
       "      <td>260</td>\n",
       "      <td>179</td>\n",
       "      <td>0.93</td>\n",
       "      <td>2019-09-17 08:08:03</td>\n",
       "      <td>2019</td>\n",
       "      <td>I have a bachelors... wanna trade?</td>\n",
       "    </tr>\n",
       "  </tbody>\n",
       "</table>\n",
       "</div>"
      ],
      "text/plain": [
       "       post_id                                         post_title  \\\n",
       "128725  aujtrm  Bernie Sanders: \"I'm running for president bec...   \n",
       "106515  n1wnp6       Disillusioned with the field of data science   \n",
       "123978  adkjpo                  [D] MIT Deep Learning GitHub Repo   \n",
       "105992  jgknop  \"Hyperparameter Optimisation\" is the ultimate ...   \n",
       "195597  d5dvju  Finance employer not keen on PhDs; changes job...   \n",
       "\n",
       "              subreddit                                           post_url  \\\n",
       "128725       artificial  https://twitter.com/BernieSanders/status/10997...   \n",
       "106515      datascience  https://www.reddit.com/r/datascience/comments/...   \n",
       "123978  MachineLearning  https://www.reddit.com/r/MachineLearning/comme...   \n",
       "105992      datascience  https://www.reddit.com/r/datascience/comments/...   \n",
       "195597      datascience  https://www.reddit.com/r/datascience/comments/...   \n",
       "\n",
       "        flair_text  score  comments  upvote_ratio            date-time  year  \\\n",
       "128725         NaN    418       118          0.91  2019-02-25 10:31:50  2019   \n",
       "106515      Career    482       170          0.91  2021-04-30 15:46:41  2021   \n",
       "123978  Discussion    429        10          0.98  2019-01-07 18:28:38  2019   \n",
       "105992  Discussion    480        64          0.98  2020-10-23 10:35:49  2020   \n",
       "195597  Discussion    260       179          0.93  2019-09-17 08:08:03  2019   \n",
       "\n",
       "                                                  comment  \n",
       "128725      Lol, moderate tone in text format. Good one.   \n",
       "106515  I wouldn't settle for this toxic culture perso...  \n",
       "123978  thanx :) It will be great if we can share idea...  \n",
       "105992  Whenever I hear that I think of hyper-tuning m...  \n",
       "195597                 I have a bachelors... wanna trade?  "
      ]
     },
     "execution_count": 7,
     "metadata": {},
     "output_type": "execute_result"
    }
   ],
   "source": [
    "comments_posts_merged.sample(5)"
   ]
  },
  {
   "cell_type": "code",
   "execution_count": 13,
   "id": "d9935e70-79ce-4420-83d1-d46cc7aaffc2",
   "metadata": {},
   "outputs": [
    {
     "data": {
      "image/png": "[encoded data removed]",
      "text/plain": [
       "<Figure size 640x480 with 1 Axes>"
      ]
     },
     "metadata": {},
     "output_type": "display_data"
    }
   ],
   "source": [
    "# Create a bar plot\n",
    "sns.barplot(y=\"year\", hue=\"subreddit\", data=posts_df)\n",
    "plt.show()"
   ]
  },
  {
   "cell_type": "code",
   "execution_count": 6,
   "id": "85d2d592-edd9-4715-ae52-97adab093068",
   "metadata": {},
   "outputs": [
    {
     "data": {
      "text/plain": [
       "datascience        107155\n",
       "MachineLearning     95700\n",
       "artificial          20304\n",
       "Name: subreddit, dtype: int64"
      ]
     },
     "execution_count": 6,
     "metadata": {},
     "output_type": "execute_result"
    }
   ],
   "source": [
    "comments_posts_merged['subreddit'].value_counts()"
   ]
  },
  {
   "cell_type": "code",
   "execution_count": 11,
   "id": "963a91c8-fbf3-4ee7-aeaa-2034dd7f179a",
   "metadata": {},
   "outputs": [
    {
     "data": {
      "image/png": "[encoded data removed]",
      "text/plain": [
       "<Figure size 1000x500 with 1 Axes>"
      ]
     },
     "metadata": {},
     "output_type": "display_data"
    }
   ],
   "source": [
    "# Create a bar plot\n",
    "fig, ax = plt.subplots(figsize=(10, 5))\n",
    "colors = {'MachineLearning': 'red', 'datascience': 'blue', 'artificial': 'green'}\n",
    "for i, (name, group) in enumerate(posts_df.groupby('subreddit')):\n",
    "    ax.bar(group['year'], group['subreddit'], color=colors[name], label=name)\n",
    "\n",
    "# Set title and legend\n",
    "ax.set_title('Number of posts by year')\n",
    "ax.legend()\n",
    "plt.show()"
   ]
  },
  {
   "cell_type": "code",
   "execution_count": null,
   "id": "c6414f61-c79c-4f28-bfe6-96ad32b24809",
   "metadata": {},
   "outputs": [],
   "source": []
  },
  {
   "cell_type": "code",
   "execution_count": null,
   "id": "54a09975-0262-457a-97d6-9836d4293663",
   "metadata": {},
   "outputs": [],
   "source": []
  },
  {
   "cell_type": "code",
   "execution_count": null,
   "id": "a3aab1bc-a003-4667-8334-532f26212965",
   "metadata": {},
   "outputs": [],
   "source": []
  }
 ],
 "metadata": {
  "kernelspec": {
   "display_name": "reddit_project:Python",
   "language": "python",
   "name": "conda-env-reddit_project-py"
  },
  "language_info": {
   "codemirror_mode": {
    "name": "ipython",
    "version": 3
   },
   "file_extension": ".py",
   "mimetype": "text/x-python",
   "name": "python",
   "nbconvert_exporter": "python",
   "pygments_lexer": "ipython3",
   "version": "3.11.0"
  }
 },
 "nbformat": 4,
 "nbformat_minor": 5
}
