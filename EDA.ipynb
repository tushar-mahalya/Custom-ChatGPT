{
 "cells": [
  {
   "cell_type": "code",
   "execution_count": 6,
   "id": "4f13ad3e-3b15-4313-9288-72716802ebc8",
   "metadata": {},
   "outputs": [],
   "source": [
    "import pandas as pd\n",
    "import datetime as dt\n",
    "\n",
    "import matplotlib.pyplot as plt\n",
    "import seaborn as sns\n",
    "\n",
    "from transformers import pipeline"
   ]
  },
  {
   "cell_type": "code",
   "execution_count": 7,
   "id": "8fb139e4-e014-4470-bfd3-24b5b71e0a59",
   "metadata": {},
   "outputs": [],
   "source": [
    "posts_df = pd.read_csv('Top_Posts.csv')\n",
    "comments_df = pd.read_csv('Top_Posts_Comments.csv')"
   ]
  },
  {
   "cell_type": "code",
   "execution_count": null,
   "id": "e40bb5c2-487a-485b-b45e-949cc901c079",
   "metadata": {},
   "outputs": [],
   "source": []
  },
  {
   "cell_type": "code",
   "execution_count": null,
   "id": "51748d28-2465-4e21-b540-bbb486d4eb86",
   "metadata": {},
   "outputs": [],
   "source": []
  },
  {
   "cell_type": "code",
   "execution_count": null,
   "id": "0deef567-3b83-4830-9e5b-0634539a00a3",
   "metadata": {},
   "outputs": [],
   "source": []
  },
  {
   "cell_type": "code",
   "execution_count": null,
   "id": "963a91c8-fbf3-4ee7-aeaa-2034dd7f179a",
   "metadata": {},
   "outputs": [],
   "source": []
  },
  {
   "cell_type": "code",
   "execution_count": null,
   "id": "c6414f61-c79c-4f28-bfe6-96ad32b24809",
   "metadata": {},
   "outputs": [],
   "source": []
  },
  {
   "cell_type": "code",
   "execution_count": null,
   "id": "54a09975-0262-457a-97d6-9836d4293663",
   "metadata": {},
   "outputs": [],
   "source": []
  },
  {
   "cell_type": "code",
   "execution_count": null,
   "id": "a3aab1bc-a003-4667-8334-532f26212965",
   "metadata": {},
   "outputs": [],
   "source": []
  }
 ],
 "metadata": {
  "kernelspec": {
   "display_name": "reddit_project:Python",
   "language": "python",
   "name": "conda-env-reddit_project-py"
  },
  "language_info": {
   "codemirror_mode": {
    "name": "ipython",
    "version": 3
   },
   "file_extension": ".py",
   "mimetype": "text/x-python",
   "name": "python",
   "nbconvert_exporter": "python",
   "pygments_lexer": "ipython3",
   "version": "3.11.0"
  }
 },
 "nbformat": 4,
 "nbformat_minor": 5
}
